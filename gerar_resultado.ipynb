{
 "cells": [
  {
   "cell_type": "code",
   "execution_count": 38,
   "metadata": {},
   "outputs": [
    {
     "name": "stdout",
     "output_type": "stream",
     "text": [
      "0.00043329067517322806\n",
      "0.00850674853223358\n",
      "0.0041237197003093674\n"
     ]
    },
    {
     "ename": "KeyError",
     "evalue": "'tfidf_silhouette'",
     "output_type": "error",
     "traceback": [
      "\u001b[0;31m---------------------------------------------------------------------------\u001b[0m",
      "\u001b[0;31mKeyError\u001b[0m                                  Traceback (most recent call last)",
      "\u001b[1;32m/home/claudiovaliense/projetos/git_combinacao/gerar_resultado.ipynb Cell 1'\u001b[0m in \u001b[0;36m<cell line: 21>\u001b[0;34m()\u001b[0m\n\u001b[1;32m     <a href='vscode-notebook-cell://ssh-remote%2Bborabora/home/claudiovaliense/projetos/git_combinacao/gerar_resultado.ipynb#ch0000000vscode-remote?line=19'>20</a>\u001b[0m lines \u001b[39m=\u001b[39m jsonlines\u001b[39m.\u001b[39mopen(\u001b[39mf\u001b[39m\u001b[39m'\u001b[39m\u001b[39mresult/\u001b[39m\u001b[39m{\u001b[39;00mdataset\u001b[39m}\u001b[39;00m\u001b[39m{\u001b[39;00mindex_fold\u001b[39m}\u001b[39;00m\u001b[39m_separabilidade.json\u001b[39m\u001b[39m'\u001b[39m)\n\u001b[1;32m     <a href='vscode-notebook-cell://ssh-remote%2Bborabora/home/claudiovaliense/projetos/git_combinacao/gerar_resultado.ipynb#ch0000000vscode-remote?line=20'>21</a>\u001b[0m \u001b[39mfor\u001b[39;00m line \u001b[39min\u001b[39;00m lines:\n\u001b[0;32m---> <a href='vscode-notebook-cell://ssh-remote%2Bborabora/home/claudiovaliense/projetos/git_combinacao/gerar_resultado.ipynb#ch0000000vscode-remote?line=21'>22</a>\u001b[0m     \u001b[39mprint\u001b[39m( line[\u001b[39m'\u001b[39;49m\u001b[39mtfidf_silhouette\u001b[39;49m\u001b[39m'\u001b[39;49m] )\n\u001b[1;32m     <a href='vscode-notebook-cell://ssh-remote%2Bborabora/home/claudiovaliense/projetos/git_combinacao/gerar_resultado.ipynb#ch0000000vscode-remote?line=22'>23</a>\u001b[0m     \u001b[39mprint\u001b[39m( line[\u001b[39m'\u001b[39m\u001b[39mfasttext_silhouette\u001b[39m\u001b[39m'\u001b[39m] )\n\u001b[1;32m     <a href='vscode-notebook-cell://ssh-remote%2Bborabora/home/claudiovaliense/projetos/git_combinacao/gerar_resultado.ipynb#ch0000000vscode-remote?line=23'>24</a>\u001b[0m     \u001b[39mprint\u001b[39m( line[\u001b[39m'\u001b[39m\u001b[39mtfidf_fasttext_silhouette\u001b[39m\u001b[39m'\u001b[39m] )\n",
      "\u001b[0;31mKeyError\u001b[0m: 'tfidf_silhouette'"
     ]
    }
   ],
   "source": [
    "import jsonlines\n",
    "import numpy as np\n",
    "import scipy.stats as stats # Calcular intervalo de confiança\n",
    "\n",
    "def arr(number, precisao=3):\n",
    "    #number = number*100\n",
    "    \"\"\" Arredonda number in precision. Example: arredonda(2.1234, 2); Return='2.12'\"\"\"\n",
    "    return float(f'%.{precisao}f'%(number))\n",
    "\n",
    "def ic(data, confianca = 0.95, type = 't'):\n",
    "    #print(f'Media: {np.mean(data) }, Intervalo: {stats.t.interval(confianca, len(data)-1, loc=np.mean(data), scale=stats.sem(data))[0]}')\n",
    "    \n",
    "    if type == 'normal':        \n",
    "        return np.mean(data) - stats.norm.interval(confianca, loc=np.mean(data), scale=stats.sem(data))[0] # utilizar para n grande > 30, implicando em intervalo menor\n",
    "    return np.mean(data) - stats.t.interval(confianca, len(data)-1, loc=np.mean(data), scale=stats.sem(data))[0]\n",
    "    \n",
    "\n",
    "dataset = 'pang_movie_2L'\n",
    "index_fold = 0\n",
    "lines = jsonlines.open(f'result/{dataset}{index_fold}_separabilidade.json')\n",
    "for line in lines:\n",
    "    print( line['tfidf_silhouette'] )\n",
    "    print( line['fasttext_silhouette'] )\n",
    "    print( line['tfidf_fasttext_silhouette'] )\n",
    "\n"
   ]
  },
  {
   "cell_type": "code",
   "execution_count": 9,
   "metadata": {},
   "outputs": [
    {
     "name": "stdout",
     "output_type": "stream",
     "text": [
      "&Reut & 35.2 \\pm 1.4 & 34.5 \\pm 2.0 & 35.6 \\pm 1.4 & 0.9 \\pm 0.1 & 35.1 \\pm 1.4 \\\\\n",
      "&Acm & 67.2 \\pm 1.0 & 55.8 \\pm 1.6 & 67.8 \\pm 1.7 & 3.8 \\pm 0.0 & 67.2 \\pm 1.0 \\\\\n",
      "&Webkb & 68.1 \\pm 2.4 & 56.3 \\pm 1.6 & 69.3 \\pm 1.6 & 8.9 \\pm 0.0 & 68.2 \\pm 2.3 \\\\\n",
      "&20Ng & 88.5 \\pm 0.5 & 73.2 \\pm 0.8 & 88.4 \\pm 0.6 & 4.3 \\pm 0.4 & 88.4 \\pm 0.6 \\\\\n",
      "&Yelp Review 2L & 94.4 \\pm 0.8 & 91.7 \\pm 1.0 & 94.7 \\pm 0.6 & 88.7 \\pm 1.1 & 94.8 \\pm 0.9 \\\\\n",
      "&Pang Movie 2L & 76.4 \\pm 0.9 & 75.7 \\pm 0.6 & 78.0 \\pm 0.6 & 64.4 \\pm 1.1 & 77.3 \\pm 0.9 \\\\\n",
      "&Vader Nyt 2L & 65.4 \\pm 1.2 & 69.7 \\pm 1.1 & 69.7 \\pm 1.1 & 65.0 \\pm 1.7 & 69.6 \\pm 1.4 \\\\\n"
     ]
    },
    {
     "ename": "IndexError",
     "evalue": "list index out of range",
     "output_type": "error",
     "traceback": [
      "\u001b[0;31m---------------------------------------------------------------------------\u001b[0m",
      "\u001b[0;31mIndexError\u001b[0m                                Traceback (most recent call last)",
      "\u001b[1;32m/home/claudiovaliense/projetos/git_combinacao/gerar_resultado.ipynb Cell 2'\u001b[0m in \u001b[0;36m<cell line: 1>\u001b[0;34m()\u001b[0m\n\u001b[1;32m      <a href='vscode-notebook-cell://ssh-remote%2Bborabora/home/claudiovaliense/projetos/git_combinacao/gerar_resultado.ipynb#ch0000001vscode-remote?line=6'>7</a>\u001b[0m     macrof\u001b[39m.\u001b[39mappend( lines[\u001b[39m1\u001b[39m][\u001b[39m'\u001b[39m\u001b[39mMacro-f1\u001b[39m\u001b[39m'\u001b[39m] )\n\u001b[1;32m      <a href='vscode-notebook-cell://ssh-remote%2Bborabora/home/claudiovaliense/projetos/git_combinacao/gerar_resultado.ipynb#ch0000001vscode-remote?line=7'>8</a>\u001b[0m     macroconcat\u001b[39m.\u001b[39mappend( lines[\u001b[39m2\u001b[39m][\u001b[39m'\u001b[39m\u001b[39mMacro-f1\u001b[39m\u001b[39m'\u001b[39m] )   \n\u001b[0;32m----> <a href='vscode-notebook-cell://ssh-remote%2Bborabora/home/claudiovaliense/projetos/git_combinacao/gerar_resultado.ipynb#ch0000001vscode-remote?line=8'>9</a>\u001b[0m     macro_vader\u001b[39m.\u001b[39mappend( lines[\u001b[39m3\u001b[39;49m][\u001b[39m'\u001b[39m\u001b[39mMacro-f1\u001b[39m\u001b[39m'\u001b[39m] ) \n\u001b[1;32m     <a href='vscode-notebook-cell://ssh-remote%2Bborabora/home/claudiovaliense/projetos/git_combinacao/gerar_resultado.ipynb#ch0000001vscode-remote?line=9'>10</a>\u001b[0m     macro_tfidf_vader\u001b[39m.\u001b[39mappend( lines[\u001b[39m4\u001b[39m][\u001b[39m'\u001b[39m\u001b[39mMacro-f1\u001b[39m\u001b[39m'\u001b[39m] )\n\u001b[1;32m     <a href='vscode-notebook-cell://ssh-remote%2Bborabora/home/claudiovaliense/projetos/git_combinacao/gerar_resultado.ipynb#ch0000001vscode-remote?line=10'>11</a>\u001b[0m \u001b[39mprint\u001b[39m(\u001b[39mf\u001b[39m\u001b[39m\"\u001b[39m\u001b[39m&\u001b[39m\u001b[39m{\u001b[39;00mdataset\u001b[39m.\u001b[39mreplace(\u001b[39m'\u001b[39m\u001b[39m_\u001b[39m\u001b[39m'\u001b[39m, \u001b[39m'\u001b[39m\u001b[39m \u001b[39m\u001b[39m'\u001b[39m)\u001b[39m.\u001b[39mtitle()\u001b[39m}\u001b[39;00m\u001b[39m & \u001b[39m\u001b[39m{\u001b[39;00marr(np\u001b[39m.\u001b[39maverage(macrot))\u001b[39m}\u001b[39;00m\u001b[39m \u001b[39m\u001b[39m\\\u001b[39m\u001b[39mpm \u001b[39m\u001b[39m{\u001b[39;00marr(ic(macrot))\u001b[39m}\u001b[39;00m\u001b[39m & \u001b[39m\u001b[39m{\u001b[39;00marr(np\u001b[39m.\u001b[39maverage(macrof))\u001b[39m}\u001b[39;00m\u001b[39m \u001b[39m\u001b[39m\\\u001b[39m\u001b[39mpm \u001b[39m\u001b[39m{\u001b[39;00marr(ic(macrof))\u001b[39m}\u001b[39;00m\u001b[39m & \u001b[39m\u001b[39m{\u001b[39;00marr(np\u001b[39m.\u001b[39maverage(macroconcat))\u001b[39m}\u001b[39;00m\u001b[39m \u001b[39m\u001b[39m\\\u001b[39m\u001b[39mpm \u001b[39m\u001b[39m{\u001b[39;00marr(ic(macroconcat))\u001b[39m}\u001b[39;00m\u001b[39m & \u001b[39m\u001b[39m{\u001b[39;00marr(np\u001b[39m.\u001b[39maverage(macro_vader))\u001b[39m}\u001b[39;00m\u001b[39m \u001b[39m\u001b[39m\\\u001b[39m\u001b[39mpm \u001b[39m\u001b[39m{\u001b[39;00marr(ic(macro_vader))\u001b[39m}\u001b[39;00m\u001b[39m & \u001b[39m\u001b[39m{\u001b[39;00marr(np\u001b[39m.\u001b[39maverage(macro_tfidf_vader))\u001b[39m}\u001b[39;00m\u001b[39m \u001b[39m\u001b[39m\\\u001b[39m\u001b[39mpm \u001b[39m\u001b[39m{\u001b[39;00marr(ic(macro_tfidf_vader))\u001b[39m}\u001b[39;00m\u001b[39m \u001b[39m\u001b[39m\\\\\u001b[39;00m\u001b[39m\\\\\u001b[39;00m\u001b[39m\"\u001b[39m)\n",
      "\u001b[0;31mIndexError\u001b[0m: list index out of range"
     ]
    }
   ],
   "source": [
    "for dataset in 'reut acm webkb 20ng yelp_review_2L pang_movie_2L vader_nyt_2L sst2'.split(' '):\n",
    "    macrot = []; macrof = []; macroconcat = []; macro_vader = []; macro_tfidf_vader = []; result = \"\"\n",
    "    for index_fold in range(10):        \n",
    "        lines = jsonlines.open(f'pred/{dataset}{index_fold}.json')\n",
    "        lines = [line for line in lines]\n",
    "        macrot.append( lines[0]['Macro-f1'] )\n",
    "        macrof.append( lines[1]['Macro-f1'] )\n",
    "        macroconcat.append( lines[2]['Macro-f1'] )   \n",
    "        macro_vader.append( lines[3]['Macro-f1'] ) \n",
    "        macro_tfidf_vader.append( lines[4]['Macro-f1'] )\n",
    "    print(f\"&{dataset.replace('_', ' ').title()} & {arr(np.average(macrot))} \\pm {arr(ic(macrot))} & {arr(np.average(macrof))} \\pm {arr(ic(macrof))} & {arr(np.average(macroconcat))} \\pm {arr(ic(macroconcat))} & {arr(np.average(macro_vader))} \\pm {arr(ic(macro_vader))} & {arr(np.average(macro_tfidf_vader))} \\pm {arr(ic(macro_tfidf_vader))} \\\\\\\\\")\n",
    "\n"
   ]
  },
  {
   "cell_type": "code",
   "execution_count": 25,
   "metadata": {},
   "outputs": [
    {
     "name": "stdout",
     "output_type": "stream",
     "text": [
      "&Reut & 35.22 \\pm 1.58 & 0.95 \\pm 0.09 & 35.27 \\pm 1.58  \\\\\n",
      "&Webkb & 69.61 \\pm 1.44 & 8.89 \\pm 0.04 & 69.58 \\pm 1.42  \\\\\n",
      "&Yelp Review 2L & 94.13 \\pm 0.67 & 88.69 \\pm 1.06 & 94.58 \\pm 0.74  \\\\\n",
      "&Pang Movie 2L & 75.06 \\pm 0.89 & 64.42 \\pm 1.09 & 75.68 \\pm 0.76  \\\\\n"
     ]
    }
   ],
   "source": [
    "for dataset in 'reut webkb yelp_review_2L pang_movie_2L'.split(' '):\n",
    "#for dataset in 'webkb'.split(' '):\n",
    "    macro_tfidf_svd = []; macro_vader = []; macro_tfidf_svd_vader = []; result = \"\"\n",
    "    for index_fold in range(10):        \n",
    "        lines = jsonlines.open(f'pred/{dataset}{index_fold}.json')\n",
    "        lines = [line for line in lines]\n",
    "        for i in range(len(lines)):\n",
    "            if lines[i]['representation'] == 'tfidf_svd':\n",
    "                macro_tfidf_svd.append(  lines[i]['Macro-f1'] )\n",
    "            if lines[i]['representation'] == 'vader':\n",
    "                macro_vader.append( lines[i]['Macro-f1'] )\n",
    "            if lines[i]['representation'] == 'tfidf_svd_vader':\n",
    "                macro_tfidf_svd_vader.append( lines[i]['Macro-f1'] )\n",
    "\n",
    "        #print(macro_tfidf_svd)\n",
    "        #macro_vader.append( lines[3]['Macro-f1'] )\n",
    "        #macro_tfidf_svd_vader.append( lines[6]['Macro-f1'] )\n",
    "        \n",
    "    print(f\"&{dataset.replace('_', ' ').title()} & {arr(np.average(macro_tfidf_svd))} \\pm {arr(ic(macro_tfidf_svd))} & {arr(np.average(macro_vader))} \\pm {arr(ic(macro_vader))} & {arr(np.average(macro_tfidf_svd_vader))} \\pm {arr(ic(macro_tfidf_svd_vader))}  \\\\\\\\\")\n",
    "\n"
   ]
  },
  {
   "cell_type": "code",
   "execution_count": 39,
   "metadata": {},
   "outputs": [
    {
     "name": "stdout",
     "output_type": "stream",
     "text": [
      "&Reut & -0.031 \\pm 0.009 & -0.157 \\pm 0.017 & -0.053 \\pm 0.009 & -0.733 \\pm 0.034 & -0.034 \\pm 0.009 \\\\\n",
      "&Acm & -0.002 \\pm 0.001 & -0.061 \\pm 0.032 & -0.031 \\pm 0.016 & -0.202 \\pm 0.049 & -0.003 \\pm 0.002 \\\\\n",
      "&Webkb & -0.005 \\pm 0.001 & -0.096 \\pm 0.007 & -0.049 \\pm 0.003 & -0.263 \\pm 0.032 & -0.007 \\pm 0.001 \\\\\n",
      "&20Ng & -0.001 \\pm 0.0 & -0.035 \\pm 0.006 & -0.011 \\pm 0.002 & -0.157 \\pm 0.01 & -0.001 \\pm 0.0 \\\\\n",
      "&Yelp Review 2L & 0.005 \\pm 0.0 & 0.032 \\pm 0.002 & 0.01 \\pm 0.001 & 0.272 \\pm 0.01 & 0.014 \\pm 0.001 \\\\\n",
      "&Pang Movie 2L & 0.0 \\pm 0.0 & 0.008 \\pm 0.001 & 0.004 \\pm 0.0 & 0.048 \\pm 0.006 & 0.003 \\pm 0.0 \\\\\n",
      "&Vader Nyt 2L & 0.0 \\pm 0.0 & 0.005 \\pm 0.001 & 0.003 \\pm 0.001 & 0.052 \\pm 0.006 & 0.003 \\pm 0.0 \\\\\n"
     ]
    },
    {
     "ename": "IndexError",
     "evalue": "list index out of range",
     "output_type": "error",
     "traceback": [
      "\u001b[0;31m---------------------------------------------------------------------------\u001b[0m",
      "\u001b[0;31mIndexError\u001b[0m                                Traceback (most recent call last)",
      "\u001b[1;32m/home/claudiovaliense/projetos/git_combinacao/gerar_resultado.ipynb Cell 4'\u001b[0m in \u001b[0;36m<cell line: 1>\u001b[0;34m()\u001b[0m\n\u001b[1;32m      <a href='vscode-notebook-cell://ssh-remote%2Bborabora/home/claudiovaliense/projetos/git_combinacao/gerar_resultado.ipynb#ch0000002vscode-remote?line=7'>8</a>\u001b[0m     macrof\u001b[39m.\u001b[39mappend( lines[\u001b[39m0\u001b[39m][\u001b[39m'\u001b[39m\u001b[39mfasttext_silhouette\u001b[39m\u001b[39m'\u001b[39m] )\n\u001b[1;32m      <a href='vscode-notebook-cell://ssh-remote%2Bborabora/home/claudiovaliense/projetos/git_combinacao/gerar_resultado.ipynb#ch0000002vscode-remote?line=8'>9</a>\u001b[0m     macroconcat\u001b[39m.\u001b[39mappend( lines[\u001b[39m0\u001b[39m][\u001b[39m'\u001b[39m\u001b[39mtfidf_fasttext_silhouette\u001b[39m\u001b[39m'\u001b[39m] )    \n\u001b[0;32m---> <a href='vscode-notebook-cell://ssh-remote%2Bborabora/home/claudiovaliense/projetos/git_combinacao/gerar_resultado.ipynb#ch0000002vscode-remote?line=9'>10</a>\u001b[0m     macro_vader\u001b[39m.\u001b[39mappend( lines[\u001b[39m1\u001b[39;49m][\u001b[39m'\u001b[39m\u001b[39mvader_silhouette\u001b[39m\u001b[39m'\u001b[39m] )\n\u001b[1;32m     <a href='vscode-notebook-cell://ssh-remote%2Bborabora/home/claudiovaliense/projetos/git_combinacao/gerar_resultado.ipynb#ch0000002vscode-remote?line=10'>11</a>\u001b[0m     macro_tfidf_vader\u001b[39m.\u001b[39mappend( lines[\u001b[39m1\u001b[39m][\u001b[39m'\u001b[39m\u001b[39mtfidf_vader_silhouette\u001b[39m\u001b[39m'\u001b[39m] )\n\u001b[1;32m     <a href='vscode-notebook-cell://ssh-remote%2Bborabora/home/claudiovaliense/projetos/git_combinacao/gerar_resultado.ipynb#ch0000002vscode-remote?line=11'>12</a>\u001b[0m \u001b[39mprint\u001b[39m(\u001b[39mf\u001b[39m\u001b[39m\"\u001b[39m\u001b[39m&\u001b[39m\u001b[39m{\u001b[39;00mdataset\u001b[39m.\u001b[39mreplace(\u001b[39m'\u001b[39m\u001b[39m_\u001b[39m\u001b[39m'\u001b[39m, \u001b[39m'\u001b[39m\u001b[39m \u001b[39m\u001b[39m'\u001b[39m)\u001b[39m.\u001b[39mtitle()\u001b[39m}\u001b[39;00m\u001b[39m & \u001b[39m\u001b[39m{\u001b[39;00marr(np\u001b[39m.\u001b[39maverage(macrot))\u001b[39m}\u001b[39;00m\u001b[39m \u001b[39m\u001b[39m\\\u001b[39m\u001b[39mpm \u001b[39m\u001b[39m{\u001b[39;00marr(ic(macrot))\u001b[39m}\u001b[39;00m\u001b[39m & \u001b[39m\u001b[39m{\u001b[39;00marr(np\u001b[39m.\u001b[39maverage(macrof))\u001b[39m}\u001b[39;00m\u001b[39m \u001b[39m\u001b[39m\\\u001b[39m\u001b[39mpm \u001b[39m\u001b[39m{\u001b[39;00marr(ic(macrof))\u001b[39m}\u001b[39;00m\u001b[39m & \u001b[39m\u001b[39m{\u001b[39;00marr(np\u001b[39m.\u001b[39maverage(macroconcat))\u001b[39m}\u001b[39;00m\u001b[39m \u001b[39m\u001b[39m\\\u001b[39m\u001b[39mpm \u001b[39m\u001b[39m{\u001b[39;00marr(ic(macroconcat))\u001b[39m}\u001b[39;00m\u001b[39m & \u001b[39m\u001b[39m{\u001b[39;00marr(np\u001b[39m.\u001b[39maverage(macro_vader))\u001b[39m}\u001b[39;00m\u001b[39m \u001b[39m\u001b[39m\\\u001b[39m\u001b[39mpm \u001b[39m\u001b[39m{\u001b[39;00marr(ic(macro_vader))\u001b[39m}\u001b[39;00m\u001b[39m & \u001b[39m\u001b[39m{\u001b[39;00marr(np\u001b[39m.\u001b[39maverage(macro_tfidf_vader))\u001b[39m}\u001b[39;00m\u001b[39m \u001b[39m\u001b[39m\\\u001b[39m\u001b[39mpm \u001b[39m\u001b[39m{\u001b[39;00marr(ic(macro_tfidf_vader))\u001b[39m}\u001b[39;00m\u001b[39m \u001b[39m\u001b[39m\\\\\u001b[39;00m\u001b[39m\\\\\u001b[39;00m\u001b[39m\"\u001b[39m)\n",
      "\u001b[0;31mIndexError\u001b[0m: list index out of range"
     ]
    }
   ],
   "source": [
    "for dataset in 'reut acm webkb 20ng yelp_review_2L pang_movie_2L vader_nyt_2L sst2'.split(' '):\n",
    "    macrot = []; macrof = []; macroconcat = []; macro_vader = []; macro_tfidf_vader = []; result = \"\"\n",
    "    for index_fold in range(10):\n",
    "        lines = jsonlines.open(f'result/{dataset}{index_fold}_separabilidade.json')\n",
    "        lines = [line for line in lines]\n",
    "        #print(lines)\n",
    "        macrot.append( lines[0]['tfidf_silhouette'] )\n",
    "        macrof.append( lines[0]['fasttext_silhouette'] )\n",
    "        macroconcat.append( lines[0]['tfidf_fasttext_silhouette'] )    \n",
    "        macro_vader.append( lines[1]['vader_silhouette'] )\n",
    "        macro_tfidf_vader.append( lines[1]['tfidf_vader_silhouette'] )\n",
    "    print(f\"&{dataset.replace('_', ' ').title()} & {arr(np.average(macrot))} \\pm {arr(ic(macrot))} & {arr(np.average(macrof))} \\pm {arr(ic(macrof))} & {arr(np.average(macroconcat))} \\pm {arr(ic(macroconcat))} & {arr(np.average(macro_vader))} \\pm {arr(ic(macro_vader))} & {arr(np.average(macro_tfidf_vader))} \\pm {arr(ic(macro_tfidf_vader))} \\\\\\\\\")\n",
    "\n"
   ]
  },
  {
   "cell_type": "code",
   "execution_count": 40,
   "metadata": {},
   "outputs": [
    {
     "name": "stdout",
     "output_type": "stream",
     "text": [
      "&Reut & -0.031 \\pm 0.009 & -0.1 \\pm 0.019 & -0.733 \\pm 0.034 & -0.104 \\pm 0.018  \\\\\n",
      "&Webkb & -0.005 \\pm 0.001 & -0.016 \\pm 0.008 & -0.263 \\pm 0.032 & -0.017 \\pm 0.007  \\\\\n",
      "&Yelp Review 2L & 0.005 \\pm 0.0 & 0.01 \\pm 0.0 & 0.272 \\pm 0.01 & 0.03 \\pm 0.002  \\\\\n",
      "&Pang Movie 2L & 0.0 \\pm 0.0 & 0.001 \\pm 0.0 & 0.048 \\pm 0.006 & 0.008 \\pm 0.001  \\\\\n"
     ]
    }
   ],
   "source": [
    "for dataset in 'reut webkb yelp_review_2L pang_movie_2L'.split(' '):    \n",
    "    macrot = []; macro_tfidf_svd = []; macro_vader =[]; macro_tfidf_svd_vader = []; result = \"\"\n",
    "    for index_fold in range(10):\n",
    "        lines = jsonlines.open(f'result/{dataset}{index_fold}_separabilidade.json')\n",
    "        lines = [line for line in lines]\n",
    "        #print(lines)\n",
    "        macrot.append( lines[0]['tfidf_silhouette'] )\n",
    "        macro_tfidf_svd.append( lines[2]['tfidf_svd_silhouette'] )            \n",
    "        macro_vader.append( lines[1]['vader_silhouette'] )\n",
    "        macro_tfidf_svd_vader.append( lines[2]['tfidf_svd_vader_silhouette'] )\n",
    "        \n",
    "    print(f\"&{dataset.replace('_', ' ').title()} & {arr(np.average(macrot))} \\pm {arr(ic(macrot))} & {arr(np.average(macro_tfidf_svd))} \\pm {arr(ic(macro_tfidf_svd))} & {arr(np.average(macro_vader))} \\pm {arr(ic(macro_vader))} & {arr(np.average(macro_tfidf_svd_vader))} \\pm {arr(ic(macro_tfidf_svd_vader))}  \\\\\\\\\")\n",
    "\n"
   ]
  },
  {
   "cell_type": "code",
   "execution_count": null,
   "metadata": {},
   "outputs": [],
   "source": [
    "from sklearn.manifold import TSNE\n",
    "import matplotlib.pyplot as plt\n",
    "\n",
    "x_tsne = TSNE(n_components=2, random_state=42).fit_transform(list(x_test['tfidf']))\n",
    "\n",
    "plt.rcParams['figure.figsize'] = [8, 8]\n",
    "plt.scatter(x_tsne[:,0], x_tsne[:,1], c=list(x_test['label']) )"
   ]
  }
 ],
 "metadata": {
  "interpreter": {
   "hash": "1795b8b4b4a5ad170b7c047f5385c54992b8b7ec0efa4835185a32e0aa05ec9d"
  },
  "kernelspec": {
   "display_name": "Python 3.8.10 ('virtualenv': venv)",
   "language": "python",
   "name": "python3"
  },
  "language_info": {
   "codemirror_mode": {
    "name": "ipython",
    "version": 3
   },
   "file_extension": ".py",
   "mimetype": "text/x-python",
   "name": "python",
   "nbconvert_exporter": "python",
   "pygments_lexer": "ipython3",
   "version": "3.8.10"
  },
  "orig_nbformat": 4
 },
 "nbformat": 4,
 "nbformat_minor": 2
}
