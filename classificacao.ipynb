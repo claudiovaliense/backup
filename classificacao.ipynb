{
 "cells": [
  {
   "cell_type": "code",
   "execution_count": 71,
   "metadata": {},
   "outputs": [],
   "source": [
    "import pickle\n",
    "from sklearn.datasets import load_svmlight_file, load_svmlight_files\n",
    "from sklearn.neighbors import NearestCentroid\n",
    "from sklearn.svm import LinearSVC\n",
    "from sklearn.linear_model import LogisticRegression\n",
    "from sklearn.ensemble import RandomForestClassifier\n",
    "import sklearn\n",
    "from sklearn import svm\n",
    "import numpy\n",
    "import pandas as pd\n",
    "import jsonlines\n",
    "from matplotlib_venn import  venn2, venn2_circles, venn2_unweighted,  venn3, venn3_unweighted, venn3_circles\n",
    "\n",
    "\n",
    "from matplotlib import pyplot as plt\n",
    "\n",
    "\n",
    "SEED = 42\n",
    "dataset = \"aisopos_ntua_2L\"\n",
    "index_fold = 0"
   ]
  },
  {
   "cell_type": "code",
   "execution_count": 24,
   "metadata": {},
   "outputs": [],
   "source": [
    "path = \"../combinacao_atencao/\"\n",
    "ids = pickle.load( open(f'{path}dataset/{dataset}/splits/split_10_with_val.pkl', 'rb') )\n",
    "x_train_tfidf, y_train, x_val_tfidf, y_val, x_test_tfidf, y_test = load_svmlight_files([open(f'{path}kaggle_tfidf/{dataset}_tfidf_train{index_fold}', 'rb'), open(f'{path}kaggle_tfidf/{dataset}_tfidf_val{index_fold}', 'rb'), open(f'{path}kaggle_tfidf/{dataset}_tfidf_test{index_fold}', 'rb')])\n",
    "\n",
    "#estimator = RandomForestClassifier(random_state=SEED)\n",
    "#estimator = LogisticRegression(solver='liblinear')\n",
    "\n",
    "#estimator = GridSearchCV(estimator, [{'C':  [0.01, 0.1, 1, 10]}], cv=5, scoring='f1_macro', n_jobs=-1)\n",
    "#estimator = NearestCentroid()\n",
    "\n",
    "y_pred_tfidf = classifica(x_train_tfidf, y_train, x_test_tfidf)\n",
    "\n",
    "path = \"../fasttext/\"\n",
    "nome_experimento= f'{path}{dataset}_fasttext' \n",
    "webkb = jsonlines.open(f'{nome_experimento}.json')\n",
    "docs = []\n",
    "for line in webkb:\n",
    "    docs.append( (line['id'], line['fasttext'], line['label']) )    \n",
    "    \n",
    "X = pd.DataFrame(docs, columns=['id', 'fasttext', 'label'])\n",
    "x_train = X.query(f\"id == {ids['train_idxs'][index_fold]}\")\n",
    "x_val = X.query(f\"id == {ids['val_idxs'][index_fold]}\")\n",
    "x_test = X.query(f\"id == {ids['test_idxs'][index_fold]}\")\n",
    "\n",
    "y_pred_fasttext = classifica(list(x_train['fasttext']), list(x_train['label']), list(x_test['fasttext']))\n",
    "\n",
    "#print(f\"Macro-f1: { sklearn.metrics.f1_score( y_test, y_pred, average='macro')}\" )\n",
    "#print(f\"Micro-f1: { sklearn.metrics.f1_score( y_test, y_pred, average='micro')}\" )\n",
    "#macro_lista.append(sklearn.metrics.f1_score( y_test, y_pred, average='macro'))"
   ]
  },
  {
   "cell_type": "code",
   "execution_count": 96,
   "metadata": {},
   "outputs": [
    {
     "name": "stdout",
     "output_type": "stream",
     "text": [
      "<class 'set'>\n",
      "acertos_tfidf: {3, 4, 7, 8, 9, 10, 11, 12, 14, 15, 16, 18, 19, 20, 21, 24, 25, 26, 27}\n",
      "acertos_fasttext: {10, 11, 14, 16, 17, 18, 19, 21, 24, 25, 26, 27}\n",
      "8\n",
      "Nenhum acertou: 8\n"
     ]
    },
    {
     "data": {
      "image/png": "[encoded data removed]",
      "text/plain": [
       "<Figure size 432x288 with 1 Axes>"
      ]
     },
     "metadata": {},
     "output_type": "display_data"
    }
   ],
   "source": [
    "acertos_tfidf = y_test == y_pred_tfidf\n",
    "acertos_tfidf = set( numpy.where(acertos_tfidf == True)[0] )\n",
    "acertos_fasttext = y_test == y_pred_fasttext\n",
    "acertos_fasttext = set( numpy.where(acertos_fasttext == True)[0] )\n",
    "#acertos_fasttext = set(list(acertos_fasttext))\n",
    "\n",
    "\n",
    "print( type(acertos_fasttext) )\n",
    "\n",
    "print(f'acertos_tfidf: {acertos_tfidf}')\n",
    "print(f'acertos_fasttext: {acertos_fasttext}')\n",
    "\n",
    "A = acertos_tfidf; B = acertos_fasttext\n",
    "apenas_A = A.difference(B) \n",
    "apenas_B = B.difference(A) \n",
    "osDois = A.intersection(B) \n",
    "\n",
    "nenhum = len(y_test) - len(A.union(B))\n",
    "\n",
    "print(len(apenas_A))\n",
    "\n",
    "\n",
    "venn2(subsets = (len(apenas_A), len(apenas_B), len(osDois)), set_labels = ('TFIDF', 'Vader'), set_colors=(\"orange\", \"blue\"),alpha=0.7)\n",
    "print(f'Nenhum acertou: {nenhum}')\n",
    "\n",
    "#venn2(subsets = (10, 0, 0), set_labels = ('TFIDF', 'Vader'), set_colors=(\"orange\", \"blue\"),alpha=0.7)\n",
    "\n",
    "\n",
    "\n",
    "# A B AB C AC CB ABC\n",
    "#venn3_unweighted(subsets=(len(apenas_A), len(apenas_B), len(osDois), 10, 0, 0, 0), \n",
    "#      set_labels=('Group A', 'Group B', 'Group C'), \n",
    "#      set_colors=(\"orange\", \"blue\", \"red\"), alpha=0.7)\n",
    "  \n",
    "\n"
   ]
  }
 ],
 "metadata": {
  "interpreter": {
   "hash": "1795b8b4b4a5ad170b7c047f5385c54992b8b7ec0efa4835185a32e0aa05ec9d"
  },
  "kernelspec": {
   "display_name": "Python 3.8.10 ('virtualenv': venv)",
   "language": "python",
   "name": "python3"
  },
  "language_info": {
   "codemirror_mode": {
    "name": "ipython",
    "version": 3
   },
   "file_extension": ".py",
   "mimetype": "text/x-python",
   "name": "python",
   "nbconvert_exporter": "python",
   "pygments_lexer": "ipython3",
   "version": "3.8.10"
  },
  "orig_nbformat": 4
 },
 "nbformat": 4,
 "nbformat_minor": 2
}
